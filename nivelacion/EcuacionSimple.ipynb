{
 "cells": [
  {
   "cell_type": "code",
   "execution_count": null,
   "id": "167f8262-9668-4464-a5fa-90b64d188848",
   "metadata": {},
   "outputs": [],
   "source": [
    "import openai\n",
    "openai.api_key = \"**************\"\n",
    "\n",
    "context = 'Eres un asistente util.'\n",
    "prompt = 'Resuelve la ecuacion: x + 10 = 5'\n",
    "\n",
    "conversation = [\n",
    "    {\"role\": \"system\", \"context\": context},\n",
    "    {\"role\": \"user\", \"context\": prompt}\n",
    "]\n",
    "response = openai.chat.completions.create(\n",
    "    model = 'gpt-3.5-turbo',\n",
    "    messages = conversation,\n",
    "    max_tokens = 50\n",
    ")\n",
    "message = response.choices[0]['message']\n",
    "print(\"{}: {}\".format(message['role'], message['content'] ))"
   ]
  },
  {
   "cell_type": "code",
   "execution_count": null,
   "id": "9dcfd76b-0d29-41c3-b2b3-72ac8ff0d79e",
   "metadata": {},
   "outputs": [],
   "source": []
  }
 ],
 "metadata": {
  "kernelspec": {
   "display_name": "Python 3 (ipykernel)",
   "language": "python",
   "name": "python3"
  },
  "language_info": {
   "codemirror_mode": {
    "name": "ipython",
    "version": 3
   },
   "file_extension": ".py",
   "mimetype": "text/x-python",
   "name": "python",
   "nbconvert_exporter": "python",
   "pygments_lexer": "ipython3",
   "version": "3.10.13"
  }
 },
 "nbformat": 4,
 "nbformat_minor": 5
}
