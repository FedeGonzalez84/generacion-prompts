{
 "cells": [
  {
   "cell_type": "code",
   "execution_count": 4,
   "id": "029798ef-5363-432a-bd88-74679164dcfe",
   "metadata": {},
   "outputs": [],
   "source": [
    "#Importo libraria y api_key\n",
    "import openai\n",
    "openai.api_key = \"**********\""
   ]
  },
  {
   "cell_type": "code",
   "execution_count": 5,
   "id": "9c1a05d8-fcc8-48fc-8d6a-acfbdae014e1",
   "metadata": {},
   "outputs": [],
   "source": [
    "# Crear variables para contener información.\n",
    "context = 'Eres un asistente util'\n",
    "prompt = 'Resuelve la ecuación: x + 10 = 5'\n"
   ]
  },
  {
   "cell_type": "code",
   "execution_count": 29,
   "id": "96996fb5-cefd-4d6b-83c0-4d3932dde878",
   "metadata": {},
   "outputs": [],
   "source": [
    "# Creando la solicitud.\n",
    "conversation = [\n",
    "    {\"role\":\"system\", \"content\": context},\n",
    "    {\"role\": \"user\", \"content\": prompt}]\n",
    "\n",
    "response = openai.ChatCompletion.create(\n",
    "    model = 'gpt-3.5-turbo',\n",
    "    messages = conversation,\n",
    "    max_tokens = 100\n",
    ")"
   ]
  },
  {
   "cell_type": "code",
   "execution_count": 34,
   "id": "c580ce39-4968-4e2f-a271-f1b45e03bbc8",
   "metadata": {
    "scrolled": true
   },
   "outputs": [
    {
     "name": "stdout",
     "output_type": "stream",
     "text": [
      "Para resolver la ecuación (x + 10 = 5), primero restamos 10 en ambos lados de la ecuación para aislar la variable (x):\n",
      "\n",
      "(x + 10 - 10 = 5 - 10)  \n",
      "(x = -5)\n",
      "\n",
      "Por lo tanto, la solución de la ecuación es (x = -5).\n"
     ]
    }
   ],
   "source": [
    "result = response.choices[0]['message']['content'].replace('\\\\','')\n",
    "print(result)"
   ]
  },
  {
   "cell_type": "code",
   "execution_count": null,
   "id": "904089da-ff2f-40ba-9a55-51ecf15447ba",
   "metadata": {},
   "outputs": [],
   "source": []
  }
 ],
 "metadata": {
  "kernelspec": {
   "display_name": "Python 3 (ipykernel)",
   "language": "python",
   "name": "python3"
  },
  "language_info": {
   "codemirror_mode": {
    "name": "ipython",
    "version": 3
   },
   "file_extension": ".py",
   "mimetype": "text/x-python",
   "name": "python",
   "nbconvert_exporter": "python",
   "pygments_lexer": "ipython3",
   "version": "3.10.13"
  }
 },
 "nbformat": 4,
 "nbformat_minor": 5
}
