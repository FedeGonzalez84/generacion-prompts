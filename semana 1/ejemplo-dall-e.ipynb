{
 "cells": [
  {
   "cell_type": "code",
   "execution_count": 4,
   "id": "fd01dec3-a7c0-4eea-8666-729318f8f810",
   "metadata": {},
   "outputs": [],
   "source": [
    "#imports\n",
    "import openai\n",
    "import os\n",
    "\n",
    "openai.api_key = \"**********\""
   ]
  },
  {
   "cell_type": "code",
   "execution_count": 5,
   "id": "d1687de6-cb5e-46b5-a7b0-fe77c8d81306",
   "metadata": {},
   "outputs": [],
   "source": [
    "#Creacion de variables\n",
    "prompt_grey = \"un astronauta cabalgando un cabello en la luna, en blanco y negro\"\n",
    "prompt_color = \"un astronauta cabalgando un cabello en la luna, a todo color\""
   ]
  },
  {
   "cell_type": "code",
   "execution_count": null,
   "id": "9418c9a5-d8fd-405e-ab60-e0b8d63b1769",
   "metadata": {},
   "outputs": [],
   "source": [
    "# Blanco y negro\n",
    "response = openai.Image.create(\n",
    "    prompt = prompt_grey,\n",
    "    n=1,\n",
    "    size=\"512x512\")\n",
    "print(response[\"data\"][0][\"url\"])"
   ]
  },
  {
   "cell_type": "code",
   "execution_count": 6,
   "id": "fb9e0bee-060c-4b15-bed2-b25804e16224",
   "metadata": {},
   "outputs": [
    {
     "name": "stdout",
     "output_type": "stream",
     "text": [
      "https://oaidalleapiprodscus.blob.core.windows.net/private/org-fKCdcHhhOcVeRrHCC4bHqmoU/user-6ywwFQaEizdDzfsPq12xC5Zb/img-Y4KNEwu5sETVPJh4z5UrTgE2.png?st=2024-03-16T19%3A38%3A40Z&se=2024-03-16T21%3A38%3A40Z&sp=r&sv=2021-08-06&sr=b&rscd=inline&rsct=image/png&skoid=6aaadede-4fb3-4698-a8f6-684d7786b067&sktid=a48cca56-e6da-484e-a814-9c849652bcb3&skt=2024-03-16T06%3A38%3A43Z&ske=2024-03-17T06%3A38%3A43Z&sks=b&skv=2021-08-06&sig=C3VTVocp/5DCCTJJMomLwux9Z7EPM65DmOa59tpuhRo%3D\n"
     ]
    }
   ],
   "source": [
    "# Color\n",
    "response = openai.Image.create(\n",
    "    prompt = prompt_color,\n",
    "    n=1,\n",
    "    size=\"512x512\")\n",
    "print(response[\"data\"][0][\"url\"])"
   ]
  },
  {
   "cell_type": "code",
   "execution_count": null,
   "id": "afe13578-16fc-4f2c-b623-2791cda0ee59",
   "metadata": {},
   "outputs": [],
   "source": [
    "prompt = \"un mono escuchando musica con unos auriculares en marte\"\n",
    "\n",
    "response = opena.Image.create( prompt = prompt, n = 1, size = \"1024x1024\")\n",
    "print(response[\"data\"][0][\"url\"])"
   ]
  },
  {
   "cell_type": "code",
   "execution_count": null,
   "id": "8a5ae02a-a6b9-4ab3-9223-37bd10579ea2",
   "metadata": {},
   "outputs": [],
   "source": []
  }
 ],
 "metadata": {
  "kernelspec": {
   "display_name": "Python 3 (ipykernel)",
   "language": "python",
   "name": "python3"
  },
  "language_info": {
   "codemirror_mode": {
    "name": "ipython",
    "version": 3
   },
   "file_extension": ".py",
   "mimetype": "text/x-python",
   "name": "python",
   "nbconvert_exporter": "python",
   "pygments_lexer": "ipython3",
   "version": "3.10.13"
  }
 },
 "nbformat": 4,
 "nbformat_minor": 5
}
