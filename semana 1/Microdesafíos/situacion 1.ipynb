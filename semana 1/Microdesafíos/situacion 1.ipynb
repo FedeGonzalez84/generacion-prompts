{
 "cells": [
  {
   "cell_type": "markdown",
   "id": "fabd2a7c-e267-47cb-8058-99c04ba48827",
   "metadata": {},
   "source": [
    "### Situación 1"
   ]
  },
  {
   "cell_type": "code",
   "execution_count": 1,
   "id": "89531b7b-1836-4efe-a98c-b8e9afcab028",
   "metadata": {},
   "outputs": [],
   "source": [
    "# Importo libreria y api_key\n",
    "import openai\n",
    "openai.api_key = \"**********\""
   ]
  },
  {
   "cell_type": "code",
   "execution_count": 2,
   "id": "0ac357b2-dc48-4373-87d0-2a5b8f572074",
   "metadata": {},
   "outputs": [],
   "source": [
    "# Crear variables para contener información.\n",
    "context = \"\"\"Sos un agente que analiza la pregunta y no da por cierta las aseveraciones sin antes analizarlas y \n",
    "luego responde por verdadero o falso solamente, sin agregar mas información\"\"\"\n",
    "true_prompt = \"El cielo es azúl durante el dia\"\n",
    "false_prompt = \"El cielo es azúl por la noche\""
   ]
  },
  {
   "cell_type": "code",
   "execution_count": 3,
   "id": "94e0045c-4920-4869-ae2e-dc24ecb26519",
   "metadata": {},
   "outputs": [],
   "source": [
    "# Creo la solicitud verdadera\n",
    "true_conversation = [\n",
    "    {\"role\": \"system\", \"content\": context },\n",
    "    {\"role\": \"user\", \"content\": true_prompt }\n",
    "]"
   ]
  },
  {
   "cell_type": "code",
   "execution_count": 4,
   "id": "4727ee9a-713d-4b2a-82f5-573179a451ec",
   "metadata": {},
   "outputs": [],
   "source": [
    "# Creo la solicitud verdadera\n",
    "false_conversation = [\n",
    "    {\"role\": \"system\", \"content\": context },\n",
    "    {\"role\": \"user\", \"content\": false_prompt }\n",
    "]"
   ]
  },
  {
   "cell_type": "code",
   "execution_count": 5,
   "id": "af8de3e4-85b2-43d6-a801-b482fd21514c",
   "metadata": {},
   "outputs": [],
   "source": [
    "# Petición con pregunta verdadera\n",
    "response_with_true_question = openai.ChatCompletion.create(\n",
    "    model = 'gpt-3.5-turbo',\n",
    "    messages = true_conversation,\n",
    "    max_tokens = 50\n",
    ")"
   ]
  },
  {
   "cell_type": "code",
   "execution_count": 6,
   "id": "c82cec14-08d1-47f4-8520-c148f30ce238",
   "metadata": {},
   "outputs": [],
   "source": [
    "# Petición con pregunta falsa\n",
    "response_with_false_question = openai.ChatCompletion.create(\n",
    "    model = 'gpt-3.5-turbo',\n",
    "    messages = false_conversation,\n",
    "    max_tokens = 50\n",
    ")"
   ]
  },
  {
   "cell_type": "code",
   "execution_count": 7,
   "id": "854cba72-5f98-45db-b6da-b9ae7c288aa3",
   "metadata": {},
   "outputs": [
    {
     "name": "stdout",
     "output_type": "stream",
     "text": [
      "Verdadero.\n",
      "Falso.\n"
     ]
    }
   ],
   "source": [
    "result_true_question = response_with_true_question.choices[0]['message']['content'].replace('\\\\','')\n",
    "print(result_true_question)\n",
    "\n",
    "result_false_question = response_with_false_question.choices[0]['message']['content'].replace('\\\\','')\n",
    "print(result_false_question)"
   ]
  },
  {
   "cell_type": "code",
   "execution_count": null,
   "id": "dcea8125-d08c-4517-a1b6-f88fff805987",
   "metadata": {},
   "outputs": [],
   "source": []
  }
 ],
 "metadata": {
  "kernelspec": {
   "display_name": "Python 3 (ipykernel)",
   "language": "python",
   "name": "python3"
  },
  "language_info": {
   "codemirror_mode": {
    "name": "ipython",
    "version": 3
   },
   "file_extension": ".py",
   "mimetype": "text/x-python",
   "name": "python",
   "nbconvert_exporter": "python",
   "pygments_lexer": "ipython3",
   "version": "3.10.13"
  }
 },
 "nbformat": 4,
 "nbformat_minor": 5
}
