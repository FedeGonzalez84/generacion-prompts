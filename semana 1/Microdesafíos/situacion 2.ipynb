{
 "cells": [
  {
   "cell_type": "markdown",
   "id": "fabd2a7c-e267-47cb-8058-99c04ba48827",
   "metadata": {},
   "source": [
    "### Situación 1"
   ]
  },
  {
   "cell_type": "code",
   "execution_count": 1,
   "id": "89531b7b-1836-4efe-a98c-b8e9afcab028",
   "metadata": {},
   "outputs": [],
   "source": [
    "# Importo libreria y api_key\n",
    "import openai\n",
    "openai.api_key = \"**********\""
   ]
  },
  {
   "cell_type": "code",
   "execution_count": 2,
   "id": "0ac357b2-dc48-4373-87d0-2a5b8f572074",
   "metadata": {},
   "outputs": [],
   "source": [
    "# Crear variables para contener información.\n",
    "context = \"Sos un entrenador con un cronometro, que responde brevemente lo que se le pregunta\"\n",
    "prompt = \"La persona A corre mas rapido que B, pero a su vez B corre mas rapido que C, quien es el mas rápido y el más lento?\""
   ]
  },
  {
   "cell_type": "code",
   "execution_count": 3,
   "id": "4727ee9a-713d-4b2a-82f5-573179a451ec",
   "metadata": {},
   "outputs": [],
   "source": [
    "# Creo la solicitud \n",
    "conversation = [\n",
    "    {\"role\": \"system\", \"content\": context },\n",
    "    {\"role\": \"user\", \"content\": prompt }\n",
    "]"
   ]
  },
  {
   "cell_type": "code",
   "execution_count": 4,
   "id": "af8de3e4-85b2-43d6-a801-b482fd21514c",
   "metadata": {},
   "outputs": [],
   "source": [
    "# Petición con pregunta \n",
    "response = openai.ChatCompletion.create(\n",
    "    model = 'gpt-3.5-turbo',\n",
    "    messages = conversation,\n",
    "    max_tokens = 50\n",
    ")"
   ]
  },
  {
   "cell_type": "code",
   "execution_count": 5,
   "id": "dcea8125-d08c-4517-a1b6-f88fff805987",
   "metadata": {},
   "outputs": [
    {
     "name": "stdout",
     "output_type": "stream",
     "text": [
      "La persona A es la más rápida y la persona C es la más lenta.\n"
     ]
    }
   ],
   "source": [
    "print(response.choices[0]['message']['content'])"
   ]
  },
  {
   "cell_type": "code",
   "execution_count": null,
   "id": "b24a0d39-fa69-4b96-9663-1e417e516423",
   "metadata": {},
   "outputs": [],
   "source": []
  }
 ],
 "metadata": {
  "kernelspec": {
   "display_name": "Python 3 (ipykernel)",
   "language": "python",
   "name": "python3"
  },
  "language_info": {
   "codemirror_mode": {
    "name": "ipython",
    "version": 3
   },
   "file_extension": ".py",
   "mimetype": "text/x-python",
   "name": "python",
   "nbconvert_exporter": "python",
   "pygments_lexer": "ipython3",
   "version": "3.10.13"
  }
 },
 "nbformat": 4,
 "nbformat_minor": 5
}
