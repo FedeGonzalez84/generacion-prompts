{
 "cells": [
  {
   "cell_type": "markdown",
   "id": "dbddb961-940b-46d9-b5ad-91cb0581f231",
   "metadata": {},
   "source": [
    "### Situación 2"
   ]
  },
  {
   "cell_type": "code",
   "execution_count": 1,
   "id": "cf328c9e-9b46-4308-8200-dbc5149c6c74",
   "metadata": {},
   "outputs": [],
   "source": [
    "# Importo libreria y api_key\n",
    "import openai\n",
    "openai.api_key = \"**********\""
   ]
  },
  {
   "cell_type": "code",
   "execution_count": 2,
   "id": "32f4d02a-acaf-41c9-a7d6-6074e1c5fe6d",
   "metadata": {},
   "outputs": [],
   "source": [
    "# Crea variables para contener información.\n",
    "context = \"Sos un profesor de matemática, necesito que resuelvas un problema y solo respondas lo que se te pide, sin dar explicaciones\"\n",
    "prompt = \"Sabiendo que 5 gatos pueden cazar 5 ratones en 5 minutos, cuanto tiempo se necesita para que 100 gatos cacen 100 ratones?\""
   ]
  },
  {
   "cell_type": "code",
   "execution_count": 3,
   "id": "5c10729f-7044-48b5-8d57-c26a0909ebc9",
   "metadata": {},
   "outputs": [],
   "source": [
    "# Crea conversación\n",
    "conversation = [\n",
    "    {\"role\": \"system\", \"content\": context},\n",
    "    {\"role\": \"user\", \"content\": prompt }\n",
    "]"
   ]
  },
  {
   "cell_type": "code",
   "execution_count": 4,
   "id": "01a1cbbd-cf59-43da-ae53-a4ed472cf803",
   "metadata": {},
   "outputs": [],
   "source": [
    "# Llamo a la API\n",
    "response = openai.ChatCompletion.create(\n",
    "    model = 'gpt-3.5-turbo',\n",
    "    messages = conversation,\n",
    "    max_tokens = 80\n",
    ")"
   ]
  },
  {
   "cell_type": "code",
   "execution_count": 5,
   "id": "79a1fb82-2339-437d-a225-cc08691bc2fd",
   "metadata": {},
   "outputs": [
    {
     "name": "stdout",
     "output_type": "stream",
     "text": [
      "Se necesita 5 minutos.\n"
     ]
    }
   ],
   "source": [
    "# Imprimo respuesta\n",
    "response = response.choices[0]['message']['content']\n",
    "print(response)"
   ]
  },
  {
   "cell_type": "code",
   "execution_count": null,
   "id": "ee6d4b72-72f2-4005-9d6c-9a8b4d91ee5c",
   "metadata": {},
   "outputs": [],
   "source": []
  }
 ],
 "metadata": {
  "kernelspec": {
   "display_name": "Python 3 (ipykernel)",
   "language": "python",
   "name": "python3"
  },
  "language_info": {
   "codemirror_mode": {
    "name": "ipython",
    "version": 3
   },
   "file_extension": ".py",
   "mimetype": "text/x-python",
   "name": "python",
   "nbconvert_exporter": "python",
   "pygments_lexer": "ipython3",
   "version": "3.10.13"
  }
 },
 "nbformat": 4,
 "nbformat_minor": 5
}
